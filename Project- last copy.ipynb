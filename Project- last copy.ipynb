{
 "cells": [
  {
   "cell_type": "markdown",
   "id": "36f80b77",
   "metadata": {},
   "source": [
    "# By the students:\n",
    "\n",
    "Fatimah Alnasser | 2210003501    Walaa Hussain | 2210003609    Noor Alqassab | 2210003554  Hoor Alabdulwahab | 2210003633"
   ]
  },
  {
   "cell_type": "markdown",
   "id": "38f341c4",
   "metadata": {},
   "source": [
    "# Harmonic Oscillators"
   ]
  },
  {
   "cell_type": "code",
   "execution_count": 37,
   "id": "66dc7e5c",
   "metadata": {
    "scrolled": true
   },
   "outputs": [
    {
     "data": {
      "text/html": [
       "<img src=\"https://i.ytimg.com/vi/NxQQjnpL7U0/maxresdefault.jpg\"/>"
      ],
      "text/plain": [
       "<IPython.core.display.Image object>"
      ]
     },
     "execution_count": 37,
     "metadata": {},
     "output_type": "execute_result"
    }
   ],
   "source": [
    "from IPython.display import Image\n",
    "Image(url=\"https://i.ytimg.com/vi/NxQQjnpL7U0/maxresdefault.jpg\")"
   ]
  },
  {
   "cell_type": "markdown",
   "id": "b33a66e1",
   "metadata": {},
   "source": [
    "Brief information:\n",
    "This coding project explains the harmonic oscillations using Hooke’s law. Simple harmonic motion is a periodic motion around a central point of equilibrium where there is no net force. Due to Hooke’s law, the restoring force acting on an object is direct related to the displacement. Whereas its direction is opposite to that displacement."
   ]
  },
  {
   "cell_type": "raw",
   "id": "01ef9ada",
   "metadata": {},
   "source": [
    "purpose of the project:\n",
    "• Investigating Hooke's Law.\n",
    "• Determining the spring stiffness coefficient (k).\n",
    "• Studying the factors affecting the time period of the spring."
   ]
  },
  {
   "cell_type": "markdown",
   "id": "da8b7d27",
   "metadata": {},
   "source": [
    "# Hooke's Law"
   ]
  },
  {
   "cell_type": "code",
   "execution_count": 38,
   "id": "cc8959a5",
   "metadata": {},
   "outputs": [],
   "source": [
    "#Function 1: Definition of the law, equation, image.\n",
    "import matplotlib.pyplot as plt\n",
    "from PIL import Image\n",
    "from sympy import symbols\n",
    "from IPython.display import Image\n",
    "K, X = symbols(\"K X\")\n",
    "F = symbols(\"F=\")\n",
    "expr= F* (-K) * X \n",
    "\n",
    "def introduction():\n",
    "    print(\"Hooke's Law :\")\n",
    "    print(\"Hooke’s law states that the strain of the material is proportional to the applied stress\")\n",
    "    print(\"within the elastic limit of that material.\")"
   ]
  },
  {
   "cell_type": "code",
   "execution_count": 39,
   "id": "ba869069",
   "metadata": {},
   "outputs": [
    {
     "data": {
      "text/html": [
       "<img src=\"https://learnool.com/wp-content/uploads/2021/07/Hookes-Law-Equation.jpeg\"/>"
      ],
      "text/plain": [
       "<IPython.core.display.Image object>"
      ]
     },
     "execution_count": 39,
     "metadata": {},
     "output_type": "execute_result"
    }
   ],
   "source": [
    "from IPython.display import Image\n",
    "Image(url=\"https://learnool.com/wp-content/uploads/2021/07/Hookes-Law-Equation.jpeg\")"
   ]
  },
  {
   "cell_type": "code",
   "execution_count": 40,
   "id": "b5864dc5",
   "metadata": {},
   "outputs": [
    {
     "name": "stdout",
     "output_type": "stream",
     "text": [
      "Hooke's Law :\n",
      "Hooke’s law states that the strain of the material is proportional to the applied stress\n",
      "within the elastic limit of that material.\n"
     ]
    },
    {
     "data": {
      "text/latex": [
       "$\\displaystyle - F= K X$"
      ],
      "text/plain": [
       "-F=*K*X"
      ]
     },
     "execution_count": 40,
     "metadata": {},
     "output_type": "execute_result"
    }
   ],
   "source": [
    "introduction()\n",
    "expr"
   ]
  },
  {
   "cell_type": "code",
   "execution_count": 41,
   "id": "0dfb0ccc",
   "metadata": {},
   "outputs": [
    {
     "data": {
      "image/png": "[encoded data removed]",
      "text/plain": [
       "<Figure size 640x480 with 1 Axes>"
      ]
     },
     "metadata": {},
     "output_type": "display_data"
    },
    {
     "data": {
      "text/html": [
       "<div>\n",
       "<style scoped>\n",
       "    .dataframe tbody tr th:only-of-type {\n",
       "        vertical-align: middle;\n",
       "    }\n",
       "\n",
       "    .dataframe tbody tr th {\n",
       "        vertical-align: top;\n",
       "    }\n",
       "\n",
       "    .dataframe thead th {\n",
       "        text-align: right;\n",
       "    }\n",
       "</style>\n",
       "<table border=\"1\" class=\"dataframe\">\n",
       "  <thead>\n",
       "    <tr style=\"text-align: right;\">\n",
       "      <th></th>\n",
       "      <th>Mass (g)</th>\n",
       "      <th>Length (cm)</th>\n",
       "    </tr>\n",
       "  </thead>\n",
       "  <tbody>\n",
       "    <tr>\n",
       "      <th>0</th>\n",
       "      <td>12</td>\n",
       "      <td>9</td>\n",
       "    </tr>\n",
       "    <tr>\n",
       "      <th>1</th>\n",
       "      <td>22</td>\n",
       "      <td>18</td>\n",
       "    </tr>\n",
       "    <tr>\n",
       "      <th>2</th>\n",
       "      <td>32</td>\n",
       "      <td>27</td>\n",
       "    </tr>\n",
       "    <tr>\n",
       "      <th>3</th>\n",
       "      <td>42</td>\n",
       "      <td>36</td>\n",
       "    </tr>\n",
       "    <tr>\n",
       "      <th>4</th>\n",
       "      <td>52</td>\n",
       "      <td>45</td>\n",
       "    </tr>\n",
       "    <tr>\n",
       "      <th>5</th>\n",
       "      <td>62</td>\n",
       "      <td>54</td>\n",
       "    </tr>\n",
       "  </tbody>\n",
       "</table>\n",
       "</div>"
      ],
      "text/plain": [
       "   Mass (g)  Length (cm)\n",
       "0        12            9\n",
       "1        22           18\n",
       "2        32           27\n",
       "3        42           36\n",
       "4        52           45\n",
       "5        62           54"
      ]
     },
     "execution_count": 41,
     "metadata": {},
     "output_type": "execute_result"
    }
   ],
   "source": [
    "#Function 2: Determining the spring stiffness coefficient (k), graph.\n",
    "import matplotlib.pyplot as plt\n",
    "import numpy as np\n",
    "def stiffness_coefficient():\n",
    "    X=np.array([12,22,32,42,52,62])\n",
    "    Y=np.array([9,18,27,36,45,54])\n",
    "    plt.plot(X,Y)\n",
    "    plt.xlabel(\"Mass (g)\")\n",
    "    plt.ylabel(\"Length (cm)\")\n",
    "    plt.title(\"Relationship Between Mass and Length\")\n",
    "    plt.show()\n",
    "\n",
    "import pandas as pd\n",
    "data= {\"Mass (g)\":[12,22,32,42,52,62],\"Length (cm)\":[9,18,27,36,45,54]} \n",
    "k= pd.DataFrame(data)\n",
    "\n",
    "stiffness_coefficient()\n",
    "k"
   ]
  },
  {
   "cell_type": "code",
   "execution_count": 42,
   "id": "374c06ce",
   "metadata": {},
   "outputs": [
    {
     "name": "stdout",
     "output_type": "stream",
     "text": [
      "To calculate k, please enter the slope calculated from the graph:2\n",
      "The spring stiffness k is = 1960 dyne/cm\n"
     ]
    }
   ],
   "source": [
    "g=980\n",
    "slope=int(input(\"To calculate k, please enter the slope calculated from the graph:\"))\n",
    "k=lambda slope: slope*g\n",
    "print(\"The spring stiffness k is =\",round(k(slope),2),\"dyne/cm\")"
   ]
  },
  {
   "cell_type": "code",
   "execution_count": 43,
   "id": "eac2d461",
   "metadata": {},
   "outputs": [
    {
     "name": "stdout",
     "output_type": "stream",
     "text": [
      "\u001b[31mThe table shows that the time period is not affected by the spring's elongation.\u001b[0m\n"
     ]
    },
    {
     "data": {
      "text/html": [
       "<div>\n",
       "<style scoped>\n",
       "    .dataframe tbody tr th:only-of-type {\n",
       "        vertical-align: middle;\n",
       "    }\n",
       "\n",
       "    .dataframe tbody tr th {\n",
       "        vertical-align: top;\n",
       "    }\n",
       "\n",
       "    .dataframe thead th {\n",
       "        text-align: right;\n",
       "    }\n",
       "</style>\n",
       "<table border=\"1\" class=\"dataframe\">\n",
       "  <thead>\n",
       "    <tr style=\"text-align: right;\">\n",
       "      <th></th>\n",
       "      <th>Displacement (cm)</th>\n",
       "      <th>time (s)</th>\n",
       "    </tr>\n",
       "  </thead>\n",
       "  <tbody>\n",
       "    <tr>\n",
       "      <th>0</th>\n",
       "      <td>10</td>\n",
       "      <td>1.03</td>\n",
       "    </tr>\n",
       "    <tr>\n",
       "      <th>1</th>\n",
       "      <td>30</td>\n",
       "      <td>1.10</td>\n",
       "    </tr>\n",
       "    <tr>\n",
       "      <th>2</th>\n",
       "      <td>40</td>\n",
       "      <td>1.11</td>\n",
       "    </tr>\n",
       "  </tbody>\n",
       "</table>\n",
       "</div>"
      ],
      "text/plain": [
       "   Displacement (cm)  time (s)\n",
       "0                 10      1.03\n",
       "1                 30      1.10\n",
       "2                 40      1.11"
      ]
     },
     "execution_count": 43,
     "metadata": {},
     "output_type": "execute_result"
    }
   ],
   "source": [
    "#Function 3: Studying the factors affecting the time period of the spring.\n",
    "# 1st factor : Spring Elongation.\n",
    "import pandas as pd\n",
    "data= {\"Displacement (cm)\":[10,30,40], \"time (s)\":[1.03,1.1,1.11]} \n",
    "table= pd.DataFrame(data)\n",
    "def print_red(text):\n",
    "    print(\"\\033[31m\"+text+\"\\033[0m\")\n",
    "print_red(\"The table shows that the time period is not affected by the spring's elongation.\")\n",
    "table"
   ]
  },
  {
   "cell_type": "code",
   "execution_count": 44,
   "id": "c441b8f9",
   "metadata": {},
   "outputs": [
    {
     "name": "stdout",
     "output_type": "stream",
     "text": [
      "\u001b[32mThe table shows that the time period is affected by the mass.\u001b[0m\n"
     ]
    },
    {
     "data": {
      "text/html": [
       "<div>\n",
       "<style scoped>\n",
       "    .dataframe tbody tr th:only-of-type {\n",
       "        vertical-align: middle;\n",
       "    }\n",
       "\n",
       "    .dataframe tbody tr th {\n",
       "        vertical-align: top;\n",
       "    }\n",
       "\n",
       "    .dataframe thead th {\n",
       "        text-align: right;\n",
       "    }\n",
       "</style>\n",
       "<table border=\"1\" class=\"dataframe\">\n",
       "  <thead>\n",
       "    <tr style=\"text-align: right;\">\n",
       "      <th></th>\n",
       "      <th>mass (gm)</th>\n",
       "      <th>time (s)</th>\n",
       "    </tr>\n",
       "  </thead>\n",
       "  <tbody>\n",
       "    <tr>\n",
       "      <th>0</th>\n",
       "      <td>11</td>\n",
       "      <td>1.11</td>\n",
       "    </tr>\n",
       "    <tr>\n",
       "      <th>1</th>\n",
       "      <td>22</td>\n",
       "      <td>1.23</td>\n",
       "    </tr>\n",
       "    <tr>\n",
       "      <th>2</th>\n",
       "      <td>32</td>\n",
       "      <td>1.35</td>\n",
       "    </tr>\n",
       "  </tbody>\n",
       "</table>\n",
       "</div>"
      ],
      "text/plain": [
       "   mass (gm)  time (s)\n",
       "0         11      1.11\n",
       "1         22      1.23\n",
       "2         32      1.35"
      ]
     },
     "execution_count": 44,
     "metadata": {},
     "output_type": "execute_result"
    }
   ],
   "source": [
    "# 2nd factor : Mass.\n",
    "import pandas as pd\n",
    "data1= {\"mass (gm)\":[11,22,32], \"time (s)\":[1.11,1.23,1.35]} \n",
    "table1= pd.DataFrame(data1)\n",
    "def print_green(text):\n",
    "    print(\"\\033[32m\"+text+\"\\033[0m\")\n",
    "print_green(\"The table shows that the time period is affected by the mass.\")\n",
    "table1"
   ]
  },
  {
   "cell_type": "markdown",
   "id": "2c7909bd",
   "metadata": {},
   "source": [
    "# Simple Pendulum"
   ]
  },
  {
   "cell_type": "code",
   "execution_count": 45,
   "id": "950e2d39",
   "metadata": {},
   "outputs": [
    {
     "name": "stdout",
     "output_type": "stream",
     "text": [
      "\u001b[36mThe simple pendulum is an example of harmonic  oscillators.\u001b[0m\n"
     ]
    },
    {
     "data": {
      "text/html": [
       "<img src=\"https://imagine.gsfc.nasa.gov/educators/lessons/time1_bjm/images/pendulum_animation_t1.gif\"/>"
      ],
      "text/plain": [
       "<IPython.core.display.Image object>"
      ]
     },
     "execution_count": 45,
     "metadata": {},
     "output_type": "execute_result"
    }
   ],
   "source": [
    "from IPython.display import Image\n",
    "def print_blue(text):\n",
    "    print(\"\\033[36m\"+text+\"\\033[0m\")\n",
    "print_blue(\"The simple pendulum is an example of harmonic  oscillators.\")\n",
    "Image(url=\"https://imagine.gsfc.nasa.gov/educators/lessons/time1_bjm/images/pendulum_animation_t1.gif\")"
   ]
  },
  {
   "cell_type": "code",
   "execution_count": 46,
   "id": "4bc63bde",
   "metadata": {},
   "outputs": [
    {
     "name": "stdout",
     "output_type": "stream",
     "text": [
      "\u001b[33mThe video below discusses simple harmonic motion for more explanation.\u001b[0m\n"
     ]
    },
    {
     "data": {
      "text/html": [
       "\n",
       "        <iframe\n",
       "            width=\"400\"\n",
       "            height=\"300\"\n",
       "            src=\"https://www.youtube.com/embed/jxstE6A_CYQ?si=Vkjgj7D-fGfwglN7\"\n",
       "            frameborder=\"0\"\n",
       "            allowfullscreen\n",
       "            \n",
       "        ></iframe>\n",
       "        "
      ],
      "text/plain": [
       "<IPython.lib.display.YouTubeVideo at 0x17909ccf150>"
      ]
     },
     "execution_count": 46,
     "metadata": {},
     "output_type": "execute_result"
    }
   ],
   "source": [
    "from IPython.display import YouTubeVideo\n",
    "def print_yellow(text):\n",
    "    print(\"\\033[33m\"+text+\"\\033[0m\")\n",
    "print_yellow(\"The video below discusses simple harmonic motion for more explanation.\")\n",
    "YouTubeVideo(\"jxstE6A_CYQ?si=Vkjgj7D-fGfwglN7\")"
   ]
  },
  {
   "cell_type": "code",
   "execution_count": 47,
   "id": "2edb37b7",
   "metadata": {},
   "outputs": [
    {
     "name": "stdout",
     "output_type": "stream",
     "text": [
      "\u001b[45mThank you.\u001b[0m\n"
     ]
    }
   ],
   "source": [
    "def print_violet(text):\n",
    "    print(\"\\033[45m\"+text+\"\\033[0m\")\n",
    "print_violet(\"Thank you.\")"
   ]
  }
 ],
 "metadata": {
  "kernelspec": {
   "display_name": "Python 3 (ipykernel)",
   "language": "python",
   "name": "python3"
  },
  "language_info": {
   "codemirror_mode": {
    "name": "ipython",
    "version": 3
   },
   "file_extension": ".py",
   "mimetype": "text/x-python",
   "name": "python",
   "nbconvert_exporter": "python",
   "pygments_lexer": "ipython3",
   "version": "3.11.4"
  }
 },
 "nbformat": 4,
 "nbformat_minor": 5
}
